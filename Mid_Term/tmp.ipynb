{
 "cells": [
  {
   "cell_type": "code",
   "execution_count": 1,
   "metadata": {},
   "outputs": [],
   "source": [
    "import numpy as np"
   ]
  },
  {
   "cell_type": "code",
   "execution_count": 2,
   "metadata": {},
   "outputs": [],
   "source": [
    "def gram_schmidt(A):\n",
    "    Q = np.zeros(A.shape)\n",
    "\n",
    "    for i in range(A.shape[1]):\n",
    "        Q[:, i] = A[:, i]\n",
    "\n",
    "        for j in range(i):\n",
    "            Q[:, i] -= Q[:, j] * np.dot(Q[:, j], A[:, i]) / np.linalg.norm(Q[:, j]) ** 2\n",
    "        \n",
    "        if Q[:, i].all() == 0:\n",
    "            return None\n",
    "\n",
    "        Q[:, i] /= np.linalg.norm(Q[:, i])\n",
    "        \n",
    "    return Q"
   ]
  },
  {
   "cell_type": "code",
   "execution_count": 5,
   "metadata": {},
   "outputs": [],
   "source": [
    "def QR_decomposition(A):\n",
    "    Q = gram_schmidt(A)\n",
    "    if Q is None:\n",
    "        return None\n",
    "    R = np.dot(Q.T, A)\n",
    "    return Q, R"
   ]
  }
 ],
 "metadata": {
  "kernelspec": {
   "display_name": "Python 3.8.11 ('htrvu')",
   "language": "python",
   "name": "python3"
  },
  "language_info": {
   "codemirror_mode": {
    "name": "ipython",
    "version": 3
   },
   "file_extension": ".py",
   "mimetype": "text/x-python",
   "name": "python",
   "nbconvert_exporter": "python",
   "pygments_lexer": "ipython3",
   "version": "3.8.11"
  },
  "orig_nbformat": 4,
  "vscode": {
   "interpreter": {
    "hash": "cec3456bb2b394b9f7a6a48fbd6467e5b2d1b4cc843f38a4be3a76ea3612fe49"
   }
  }
 },
 "nbformat": 4,
 "nbformat_minor": 2
}
