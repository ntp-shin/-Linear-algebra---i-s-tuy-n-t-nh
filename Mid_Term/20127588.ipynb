{
 "cells": [
  {
   "cell_type": "code",
   "execution_count": 3,
   "metadata": {},
   "outputs": [],
   "source": [
    "#Phan ra QR - \n",
    "from cmath import sqrt\n",
    "import copy"
   ]
  },
  {
   "cell_type": "markdown",
   "metadata": {},
   "source": [
    "1. Vector - Gồm các hàm về vector\n",
    "\n",
    "Note: 1 vector = 1 list, 1 phần tử là một số /n\n",
    "Các hàm đều trả về một vector"
   ]
  },
  {
   "cell_type": "markdown",
   "metadata": {},
   "source": [
    "a) Nhân vector với một số"
   ]
  },
  {
   "cell_type": "code",
   "execution_count": 4,
   "metadata": {},
   "outputs": [],
   "source": [
    "def mulVectorWithNumber(vector, number):\n",
    "    result = []\n",
    "    for i in range(len(vector)):\n",
    "        result.append(vector[i] * number)\n",
    "    return result"
   ]
  },
  {
   "cell_type": "markdown",
   "metadata": {},
   "source": [
    "b) Nhân 2 vector với nhau"
   ]
  },
  {
   "cell_type": "code",
   "execution_count": 5,
   "metadata": {},
   "outputs": [],
   "source": [
    "def mulTwoVector(vector1, vector2):\n",
    "    result = 0\n",
    "    if len(vector1) != len(vector2):\n",
    "        return -1\n",
    "    for i in range(len(vector1)):\n",
    "        result += vector1[i] * vector2[i]\n",
    "    if abs(result) < 0.0001:\n",
    "        return 0\n",
    "    return result"
   ]
  },
  {
   "cell_type": "markdown",
   "metadata": {},
   "source": [
    "c) Trừ 2 vector với nhau\n"
   ]
  },
  {
   "cell_type": "code",
   "execution_count": 6,
   "metadata": {},
   "outputs": [],
   "source": [
    "def minusTwoVector(vector1, vector2):\n",
    "    result = []\n",
    "    for i in range(len(vector1)):\n",
    "        result.append(vector1[i] - vector2[i])\n",
    "    return result"
   ]
  },
  {
   "cell_type": "markdown",
   "metadata": {},
   "source": [
    "2. Các hàm về Ma trận"
   ]
  },
  {
   "cell_type": "markdown",
   "metadata": {},
   "source": [
    "a) Convert Matrix: Đưa ma trận từ chiều ngang sang chiều dọc. Mục đích để lấy các cột của ma trận để tính toán. Cuối cùng covert thêm một lần nữa để trả về kết quả ban đầu."
   ]
  },
  {
   "cell_type": "code",
   "execution_count": 7,
   "metadata": {},
   "outputs": [],
   "source": [
    "def convertMatrix(matrix):\n",
    "    numRow = len(matrix)\n",
    "    numCol = len(matrix[0])\n",
    "    newMatrix = []\n",
    "    for j in range(numCol):\n",
    "        colum = []\n",
    "        for i in range(numRow):\n",
    "            colum.append(matrix[i][j])\n",
    "        newMatrix.append(colum)\n",
    "    return newMatrix"
   ]
  },
  {
   "cell_type": "markdown",
   "metadata": {},
   "source": [
    "b) Print Matrix: In ma trận ra console"
   ]
  },
  {
   "cell_type": "code",
   "execution_count": 8,
   "metadata": {},
   "outputs": [],
   "source": [
    "def printMatrix(matrix):\n",
    "    for i in range(len(matrix)):\n",
    "        for j in range(len(matrix[0])):\n",
    "            print(matrix[i][j].real, end = ' ')\n",
    "        print()"
   ]
  },
  {
   "cell_type": "markdown",
   "metadata": {},
   "source": [
    "3. Các hàm về thuật toán Gram Schmidt"
   ]
  },
  {
   "cell_type": "markdown",
   "metadata": {},
   "source": [
    "a) proj(): tính <u, v> * u / <u, u>"
   ]
  },
  {
   "cell_type": "code",
   "execution_count": 9,
   "metadata": {},
   "outputs": [],
   "source": [
    "def proj(u, v):\n",
    "    result = copy.deepcopy(u)\n",
    "    heso = mulTwoVector(u, v) / mulTwoVector(u, u)\n",
    "    for i in range(len(u)):\n",
    "        result[i] = u[i] * heso\n",
    "    return result"
   ]
  },
  {
   "cell_type": "markdown",
   "metadata": {},
   "source": [
    "b) Gram Schmidt: Thuật toán tìm ma trận Q"
   ]
  },
  {
   "cell_type": "code",
   "execution_count": 10,
   "metadata": {},
   "outputs": [],
   "source": [
    "def GramSchmidt(matrixInput):\n",
    "    matrix = convertMatrix(matrixInput)\n",
    "    numRow = len(matrix)\n",
    "    numCol = len(matrix[0])\n",
    "\n",
    "    resultMatrix = []\n",
    "    u0 = matrix[0]\n",
    "    v0 = mulVectorWithNumber(u0, 1 / sqrt(mulTwoVector(u0, u0)))\n",
    "    resultMatrix.append(v0)\n",
    "    for i in range(1, numRow):\n",
    "        ui = matrix[i]\n",
    "        for j in range(0, i):\n",
    "            ui = minusTwoVector(ui, proj(resultMatrix[j], ui))\n",
    "        vi = mulVectorWithNumber(ui, 1 / sqrt(mulTwoVector(ui, ui)))\n",
    "        resultMatrix.append(vi)\n",
    "    return convertMatrix(resultMatrix)"
   ]
  },
  {
   "cell_type": "markdown",
   "metadata": {},
   "source": [
    "c) find QR: Tìm ma trận R dựa trên Q"
   ]
  },
  {
   "cell_type": "code",
   "execution_count": 11,
   "metadata": {},
   "outputs": [],
   "source": [
    "def findQR(matrixInput):\n",
    "    matrix = convertMatrix(matrixInput)\n",
    "\n",
    "    Q = GramSchmidt(matrixInput)\n",
    "    Qconvert = convertMatrix(Q)\n",
    "    R = []\n",
    "\n",
    "    for i in range(len(matrix)):\n",
    "        row = []\n",
    "        for j in range(len(matrix)):\n",
    "            if j < i:\n",
    "                row.append(0)\n",
    "            else:\n",
    "                row.append(mulTwoVector(Qconvert[i], matrix[j]))\n",
    "        R.append(row)\n",
    "    return Q, R"
   ]
  },
  {
   "cell_type": "markdown",
   "metadata": {},
   "source": [
    "4. Test case"
   ]
  },
  {
   "cell_type": "markdown",
   "metadata": {},
   "source": [
    "4.1 A = [[1, 1, 2], [2, -1, 1], [-2, 4, 1]]"
   ]
  },
  {
   "cell_type": "code",
   "execution_count": 12,
   "metadata": {},
   "outputs": [
    {
     "name": "stdout",
     "output_type": "stream",
     "text": [
      "(0.3333333333333333+0j) (0.6666666666666666+0j) (0.6666666666666672+0j) \n",
      "(0.6666666666666666+0j) (0.3333333333333333+0j) (-0.6666666666666665+0j) \n",
      "(-0.6666666666666666+0j) (0.6666666666666666+0j) (-0.3333333333333329+0j) \n",
      "\n",
      "(3+0j) (-3+0j) (0.6666666666666666+0j) \n",
      "0 (3+0j) (2.333333333333333+0j) \n",
      "0 0 (0.3333333333333349+0j) \n"
     ]
    }
   ],
   "source": [
    "A = [[1, 1, 2], [2, -1, 1], [-2, 4, 1]]\n",
    "Q, R = findQR(A)\n",
    "printMatrix(Q)\n",
    "print()\n",
    "printMatrix(R)"
   ]
  },
  {
   "cell_type": "markdown",
   "metadata": {},
   "source": [
    "4.2"
   ]
  },
  {
   "cell_type": "code",
   "execution_count": 13,
   "metadata": {},
   "outputs": [
    {
     "name": "stdout",
     "output_type": "stream",
     "text": [
      "(0.4082482904638631+0j) (0.5773502691896256+0j) (0.7071067811865476+0j) \n",
      "(0.8164965809277261+0j) (-0.5773502691896257+0j) 0j \n",
      "(0.4082482904638631+0j) (0.5773502691896256+0j) (-0.7071067811865475+0j) \n",
      "\n",
      "(2.4494897427831783+0j) (-0.816496580927726+0j) (1.632993161855452+0j) \n",
      "0 (2.309401076758503+0j) (-1.1547005383792515+0j) \n",
      "0 0 (1.414213562373095+0j) \n"
     ]
    }
   ],
   "source": [
    "A = [[1, 1, 1], [2, -2, 2], [1, 1, -1]]\n",
    "Q, R = findQR(A)\n",
    "printMatrix(Q)\n",
    "print()\n",
    "printMatrix(R)"
   ]
  },
  {
   "cell_type": "code",
   "execution_count": 14,
   "metadata": {},
   "outputs": [
    {
     "name": "stdout",
     "output_type": "stream",
     "text": [
      "(0.3333333333333333+0j) (0.6666666666666666+0j) (0.6666666666666672+0j) \n",
      "(0.6666666666666666+0j) (0.3333333333333333+0j) (-0.6666666666666665+0j) \n",
      "(-0.6666666666666666+0j) (0.6666666666666666+0j) (-0.3333333333333329+0j) \n",
      "\n",
      "(3+0j) (-3+0j) (0.6666666666666666+0j) \n",
      "0 (3+0j) (2.333333333333333+0j) \n",
      "0 0 (0.3333333333333349+0j) \n"
     ]
    }
   ],
   "source": [
    "A = [[1, 1, 2], [2, -1, 1], [-2, 4, 1]]\n",
    "Q, R = findQR(A)\n",
    "printMatrix(Q)\n",
    "print()\n",
    "printMatrix(R)"
   ]
  },
  {
   "cell_type": "markdown",
   "metadata": {},
   "source": []
  }
 ],
 "metadata": {
  "kernelspec": {
   "display_name": "Python 3.10.2 64-bit",
   "language": "python",
   "name": "python3"
  },
  "language_info": {
   "codemirror_mode": {
    "name": "ipython",
    "version": 3
   },
   "file_extension": ".py",
   "mimetype": "text/x-python",
   "name": "python",
   "nbconvert_exporter": "python",
   "pygments_lexer": "ipython3",
   "version": "3.10.2"
  },
  "orig_nbformat": 4,
  "vscode": {
   "interpreter": {
    "hash": "0c3f1a7d561c5e7000fe22e0f69c159d058d18792b6544b4cdea00d1b72ad225"
   }
  }
 },
 "nbformat": 4,
 "nbformat_minor": 2
}
