{
 "cells": [
  {
   "cell_type": "markdown",
   "metadata": {},
   "source": [
    "# Đồ án 3: Linear regression\n",
    "##### Mã số sinh viên: 20127588\n",
    "##### Họ và tên: Nguyễn Tấn Phát\n",
    "\n",
    "## Nội dung: \n",
    "- File \"wine.csv\" là cơ sở dữ liệu đánh giá chất lượng của 1200 chai rượu vang theo thang điểm 1 - 10 dựa trên 11 tính chất khác nhau.\n",
    "- Xây dựng mô hình đánh giá chất lượng rượu sử dụng phương pháp hồi quy tuyến tính:\n",
    "    - a. Sử dụng toàn bộ 11 đặc trưng đề bài cung cấp:\n",
    "\n",
    "        - y=theta_1x_1+theta_2x_2+...+theta_11x_11\n",
    "\n",
    "    - b. Sử dụng duy nhất 1 đặc trưng cho kết quả tốt nhất. (Gợi ý: Phương pháp Cross Validation)\n",
    "    \n",
    "        - y=theta_ix_i (dùng mô hình lần lượt cho từng đặc trưng).\n",
    "\n",
    "    - c. Xây dựng một mô hình của riêng bạn cho kết quả tốt nhất"
   ]
  },
  {
   "cell_type": "markdown",
   "metadata": {},
   "source": [
    "# Bài làm:\n",
    "Chuẩn bị tất cả các thư viện cần thiết"
   ]
  },
  {
   "cell_type": "code",
   "execution_count": 1,
   "metadata": {},
   "outputs": [],
   "source": [
    "import pandas as pd\n",
    "import numpy as np\n",
    "\n",
    "import matplotlib\n",
    "import matplotlib.pyplot as plt"
   ]
  },
  {
   "cell_type": "markdown",
   "metadata": {},
   "source": [
    "### Đọc dữ liệu vào\n",
    "Dùng pandas.read_csv để đọc dữ liệu từ file csv vào"
   ]
  },
  {
   "cell_type": "code",
   "execution_count": 2,
   "metadata": {},
   "outputs": [],
   "source": [
    "df = pd.read_csv('wine.csv', sep=';')"
   ]
  },
  {
   "cell_type": "markdown",
   "metadata": {},
   "source": [
    "Dữ liệu với 1200 dòng:"
   ]
  },
  {
   "cell_type": "code",
   "execution_count": 6,
   "metadata": {},
   "outputs": [
    {
     "data": {
      "text/html": [
       "<div>\n",
       "<style scoped>\n",
       "    .dataframe tbody tr th:only-of-type {\n",
       "        vertical-align: middle;\n",
       "    }\n",
       "\n",
       "    .dataframe tbody tr th {\n",
       "        vertical-align: top;\n",
       "    }\n",
       "\n",
       "    .dataframe thead th {\n",
       "        text-align: right;\n",
       "    }\n",
       "</style>\n",
       "<table border=\"1\" class=\"dataframe\">\n",
       "  <thead>\n",
       "    <tr style=\"text-align: right;\">\n",
       "      <th></th>\n",
       "      <th>fixed acidity</th>\n",
       "      <th>volatile acidity</th>\n",
       "      <th>citric acid</th>\n",
       "      <th>residual sugar</th>\n",
       "      <th>chlorides</th>\n",
       "      <th>free sulfur dioxide</th>\n",
       "      <th>total sulfur dioxide</th>\n",
       "      <th>density</th>\n",
       "      <th>pH</th>\n",
       "      <th>sulphates</th>\n",
       "      <th>alcohol</th>\n",
       "      <th>quality</th>\n",
       "    </tr>\n",
       "  </thead>\n",
       "  <tbody>\n",
       "    <tr>\n",
       "      <th>0</th>\n",
       "      <td>7.4</td>\n",
       "      <td>0.70</td>\n",
       "      <td>0.00</td>\n",
       "      <td>1.9</td>\n",
       "      <td>0.076</td>\n",
       "      <td>11.0</td>\n",
       "      <td>34</td>\n",
       "      <td>0.9978</td>\n",
       "      <td>3.51</td>\n",
       "      <td>0.56</td>\n",
       "      <td>9.4</td>\n",
       "      <td>5</td>\n",
       "    </tr>\n",
       "    <tr>\n",
       "      <th>1</th>\n",
       "      <td>7.8</td>\n",
       "      <td>0.88</td>\n",
       "      <td>0.00</td>\n",
       "      <td>2.6</td>\n",
       "      <td>0.098</td>\n",
       "      <td>25.0</td>\n",
       "      <td>67</td>\n",
       "      <td>0.9968</td>\n",
       "      <td>3.20</td>\n",
       "      <td>0.68</td>\n",
       "      <td>9.8</td>\n",
       "      <td>5</td>\n",
       "    </tr>\n",
       "    <tr>\n",
       "      <th>2</th>\n",
       "      <td>7.8</td>\n",
       "      <td>0.76</td>\n",
       "      <td>0.04</td>\n",
       "      <td>2.3</td>\n",
       "      <td>0.092</td>\n",
       "      <td>15.0</td>\n",
       "      <td>54</td>\n",
       "      <td>0.9970</td>\n",
       "      <td>3.26</td>\n",
       "      <td>0.65</td>\n",
       "      <td>9.8</td>\n",
       "      <td>5</td>\n",
       "    </tr>\n",
       "    <tr>\n",
       "      <th>3</th>\n",
       "      <td>11.2</td>\n",
       "      <td>0.28</td>\n",
       "      <td>0.56</td>\n",
       "      <td>1.9</td>\n",
       "      <td>0.075</td>\n",
       "      <td>17.0</td>\n",
       "      <td>60</td>\n",
       "      <td>0.9980</td>\n",
       "      <td>3.16</td>\n",
       "      <td>0.58</td>\n",
       "      <td>9.8</td>\n",
       "      <td>6</td>\n",
       "    </tr>\n",
       "    <tr>\n",
       "      <th>4</th>\n",
       "      <td>7.4</td>\n",
       "      <td>0.70</td>\n",
       "      <td>0.00</td>\n",
       "      <td>1.9</td>\n",
       "      <td>0.076</td>\n",
       "      <td>11.0</td>\n",
       "      <td>34</td>\n",
       "      <td>0.9978</td>\n",
       "      <td>3.51</td>\n",
       "      <td>0.56</td>\n",
       "      <td>9.4</td>\n",
       "      <td>5</td>\n",
       "    </tr>\n",
       "  </tbody>\n",
       "</table>\n",
       "</div>"
      ],
      "text/plain": [
       "   fixed acidity  volatile acidity  citric acid  residual sugar  chlorides  \\\n",
       "0            7.4              0.70         0.00             1.9      0.076   \n",
       "1            7.8              0.88         0.00             2.6      0.098   \n",
       "2            7.8              0.76         0.04             2.3      0.092   \n",
       "3           11.2              0.28         0.56             1.9      0.075   \n",
       "4            7.4              0.70         0.00             1.9      0.076   \n",
       "\n",
       "   free sulfur dioxide  total sulfur dioxide  density    pH  sulphates  \\\n",
       "0                 11.0                    34   0.9978  3.51       0.56   \n",
       "1                 25.0                    67   0.9968  3.20       0.68   \n",
       "2                 15.0                    54   0.9970  3.26       0.65   \n",
       "3                 17.0                    60   0.9980  3.16       0.58   \n",
       "4                 11.0                    34   0.9978  3.51       0.56   \n",
       "\n",
       "   alcohol  quality  \n",
       "0      9.4        5  \n",
       "1      9.8        5  \n",
       "2      9.8        5  \n",
       "3      9.8        6  \n",
       "4      9.4        5  "
      ]
     },
     "execution_count": 6,
     "metadata": {},
     "output_type": "execute_result"
    }
   ],
   "source": [
    "df.head()"
   ]
  },
  {
   "cell_type": "markdown",
   "metadata": {},
   "source": [
    "### Tạo ma trận của Hồi quy tuyến tính\n",
    "Với đầu vào là data và list các tiêu chí của rượu. Ta lập ma trận có n tiêu chí và 1200 dòng. \n",
    "Ngoài ra tiêu chí = None tương ứng với cột 1 - hệ số tự do."
   ]
  },
  {
   "cell_type": "code",
   "execution_count": 7,
   "metadata": {},
   "outputs": [],
   "source": [
    "def createMatrix(data, titles):\n",
    "    colum0 = data[titles[0]]\n",
    "\n",
    "    if colum0 is None:\n",
    "        return None\n",
    "\n",
    "    matrix = np.array([colum0]).T\n",
    "    colum0 = np.array([colum0]).T\n",
    "\n",
    "    num = len(titles)\n",
    "    for i in range(1, num):\n",
    "        title = titles[i]\n",
    "        if title == None:\n",
    "            ones = np.ones(colum0.shape, dtype=np.int8)\n",
    "            matrix = np.concatenate((matrix, ones), axis= 1)\n",
    "        else:\n",
    "            colum = np.array([data[title]]).T\n",
    "            matrix = np.concatenate((matrix, colum), axis= 1)\n",
    "    return matrix"
   ]
  },
  {
   "cell_type": "markdown",
   "metadata": {},
   "source": [
    "Tạo ma trận gồm 1 cột và 1200 dòng. Lưu kết quả tương ứng với các tiêu chí."
   ]
  },
  {
   "cell_type": "code",
   "execution_count": 8,
   "metadata": {},
   "outputs": [],
   "source": [
    "def matrixResult(data, title):\n",
    "    colum = np.array([data[title]]).T\n",
    "    return colum"
   ]
  },
  {
   "cell_type": "markdown",
   "metadata": {},
   "source": [
    "### Linear Regresstion - Hồi quy tuyến tính\n",
    "Tính nghiệm của hồi quy tuyến tính"
   ]
  },
  {
   "cell_type": "code",
   "execution_count": 9,
   "metadata": {},
   "outputs": [],
   "source": [
    "def LinearRegression(matrix, result):\n",
    "    # x = (A.T * A)^-1 * A.T * b = [a b] trong y =ax + b\n",
    "    x = np.linalg.inv(matrix.transpose().dot(matrix)).dot(matrix.transpose()).dot(result)\n",
    "    return x\n"
   ]
  },
  {
   "cell_type": "markdown",
   "metadata": {},
   "source": [
    "Tính bình phương tối tiểu của 1200 dữ liệu đầu vào"
   ]
  },
  {
   "cell_type": "code",
   "execution_count": 10,
   "metadata": {},
   "outputs": [],
   "source": [
    "def leastSquares(data, title, titleResult):\n",
    "    xColum = data[title]\n",
    "    yColum = matrixResult(data, titleResult)\n",
    "    matrix = createMatrix(data, [title, None])\n",
    "\n",
    "    ab = LinearRegression(matrix, yColum)\n",
    "    a = ab[0][0]\n",
    "    b = ab[1][0]\n",
    "    x0 = xColum\n",
    "    y0 = a * x0 + b\n",
    "    leastSquares = 0\n",
    "    for i in range(len(yColum)):\n",
    "        leastSquares += (y0[i] - yColum[i][0]) ** 2\n",
    "    print(\"__ Least Squares of \" + title + \" = \", int(leastSquares))\n",
    "    return leastSquares"
   ]
  },
  {
   "cell_type": "markdown",
   "metadata": {},
   "source": [
    "Vẽ đường thẳng hồi quy tuyến tính sau khi biết các hệ số"
   ]
  },
  {
   "cell_type": "code",
   "execution_count": 26,
   "metadata": {},
   "outputs": [],
   "source": [
    "def drawLinearRegression(data, title, titleResult):\n",
    "    xColum = data[title]\n",
    "    yColum = matrixResult(data, titleResult)\n",
    "    matrix = createMatrix(data, [title, None])\n",
    "    xMin = min(xColum)\n",
    "    xMax = max(xColum)\n",
    "    \n",
    "    plt.title(title)\n",
    "    plt.plot(xColum, yColum, 'go')\n",
    "    plt.xlabel(\"number of \" + title)\n",
    "    plt.ylabel(\"quality\")\n",
    "\n",
    "    ab = LinearRegression(matrix, yColum)\n",
    "    a = ab[0][0]\n",
    "    b = ab[1][0]\n",
    "    x0 = np.linspace(xMin, xMax, 100000)\n",
    "    y0 = a * x0 + b\n",
    "    plt.plot(x0, y0, 'r')\n",
    "    plt.show()   "
   ]
  },
  {
   "cell_type": "markdown",
   "metadata": {},
   "source": [
    "### Chạy thử câu a và b"
   ]
  },
  {
   "cell_type": "markdown",
   "metadata": {},
   "source": [
    "a. Sử dụng toàn bộ 11 đặc trưng đề bài cung cấp"
   ]
  },
  {
   "cell_type": "code",
   "execution_count": 20,
   "metadata": {},
   "outputs": [
    {
     "name": "stdout",
     "output_type": "stream",
     "text": [
      "y = 0.00593  *  x1 + -1.10804  *  x2 + -0.26305  *  x3 + 0.01532  *  x4 + -1.7305  *  x5 + 0.0038  *  x6 + -0.0039  *  x7 + 4.33859  *  x8 + -0.45854  *  x9 + 0.72972  *  x10 + 0.30886  *  x11"
     ]
    }
   ],
   "source": [
    "titles = [\"fixed acidity\", \"volatile acidity\", \"citric acid\", \"residual sugar\", \"chlorides\", \"free sulfur dioxide\", \"total sulfur dioxide\", \"density\", \"pH\", \"sulphates\", \"alcohol\"]\n",
    "Matrix = createMatrix(df, titles)\n",
    "result = matrixResult(df, \"quality\")\n",
    "\n",
    "x = LinearRegression(Matrix, result)\n",
    "print(\"y = \", end='')\n",
    "for i in range(len(x)):\n",
    "    theta = 'x' + str(i + 1)\n",
    "    print(round(x[i][0], 5), ' * ', theta, end = '')\n",
    "    \n",
    "    if i != len(x) - 1:\n",
    "        print(' + ', end='')\n",
    "\n"
   ]
  },
  {
   "cell_type": "markdown",
   "metadata": {},
   "source": [
    "b. Sử dụng duy nhất 1 đặc trưng cho kết quả tốt nhất\n",
    "- Tính tổng tất các bình phương tối tiểu của dữ liệu đầu vào.\n",
    "- Khi đó, đặc trưng cho bình phương tối tiểu nhất sẽ tốt nhất."
   ]
  },
  {
   "cell_type": "code",
   "execution_count": 22,
   "metadata": {},
   "outputs": [
    {
     "name": "stdout",
     "output_type": "stream",
     "text": [
      "0 __ Least Squares of fixed acidity =  767\n",
      "1 __ Least Squares of volatile acidity =  671\n",
      "2 __ Least Squares of citric acid =  744\n",
      "3 __ Least Squares of residual sugar =  783\n",
      "4 __ Least Squares of chlorides =  773\n",
      "5 __ Least Squares of free sulfur dioxide =  780\n",
      "6 __ Least Squares of total sulfur dioxide =  744\n",
      "7 __ Least Squares of density =  756\n",
      "8 __ Least Squares of pH =  780\n",
      "9 __ Least Squares of sulphates =  750\n",
      "10 __ Least Squares of alcohol =  584\n"
     ]
    }
   ],
   "source": [
    "for i in range(len(titles)):\n",
    "    print(i, end=' ')\n",
    "    leastSquares(df, titles[i], \"quality\")"
   ]
  },
  {
   "cell_type": "markdown",
   "metadata": {},
   "source": [
    "**Vậy đặc trưng tốt nhất là alcohol.**  Sẽ có mô hình là"
   ]
  },
  {
   "cell_type": "code",
   "execution_count": 23,
   "metadata": {},
   "outputs": [
    {
     "name": "stdout",
     "output_type": "stream",
     "text": [
      "y = 0.37471  * x +  1.77408\n"
     ]
    }
   ],
   "source": [
    "alcolMatrix = createMatrix(df, [\"alcohol\", None])\n",
    "alcolResult = matrixResult(df, \"quality\")\n",
    "alcol = LinearRegression(alcolMatrix, alcolResult)\n",
    "a = round(alcol[0][0], 5)\n",
    "b = round(alcol[1][0], 5)\n",
    "print(\"y = \", end='')\n",
    "print(a, ' * x + ', b)"
   ]
  },
  {
   "cell_type": "markdown",
   "metadata": {},
   "source": [
    "c. Xây dựng một mô hình của riêng bạn cho kết quả tốt nhất."
   ]
  },
  {
   "cell_type": "markdown",
   "metadata": {},
   "source": [
    "- Qua kết quả từ câu b. Có thể thấy được đa số các đặc trưng đều cho ra bình phương tối tiểu khá lớn.\n",
    "- Từ đó chọn được những đặc trưng có bình phương tối tiểu nhỏ. Rồi xây dựng mô hình phù hợp\n"
   ]
  },
  {
   "cell_type": "code",
   "execution_count": 24,
   "metadata": {},
   "outputs": [
    {
     "name": "stdout",
     "output_type": "stream",
     "text": [
      "0 __ Least Squares of fixed acidity =  767\n",
      "1 __ Least Squares of volatile acidity =  671\n",
      "2 __ Least Squares of citric acid =  744\n",
      "3 __ Least Squares of residual sugar =  783\n",
      "4 __ Least Squares of chlorides =  773\n",
      "5 __ Least Squares of free sulfur dioxide =  780\n",
      "6 __ Least Squares of total sulfur dioxide =  744\n",
      "7 __ Least Squares of density =  756\n",
      "8 __ Least Squares of pH =  780\n",
      "9 __ Least Squares of sulphates =  750\n",
      "10 __ Least Squares of alcohol =  584\n"
     ]
    }
   ],
   "source": [
    "for i in range(len(titles)):\n",
    "    print(i, end=' ')\n",
    "    leastSquares(df, titles[i], \"quality\")"
   ]
  },
  {
   "cell_type": "markdown",
   "metadata": {},
   "source": [
    "Ngoài ra, bằng việc quan sát đồ thị Linear Regresstion có thể biết được nào đặc trưng nào tốt **nhờ độ nghiêng của đường thẳng, càng nghiêng càng tốt**"
   ]
  },
  {
   "cell_type": "code",
   "execution_count": 27,
   "metadata": {},
   "outputs": [
    {
     "data": {
      "image/png": "[encoded data removed]",
      "text/plain": [
       "<Figure size 432x288 with 1 Axes>"
      ]
     },
     "metadata": {
      "needs_background": "light"
     },
     "output_type": "display_data"
    }
   ],
   "source": [
    "drawLinearRegression(df, \"citric acid\", \"quality\")"
   ]
  },
  {
   "cell_type": "code",
   "execution_count": 28,
   "metadata": {},
   "outputs": [
    {
     "data": {
      "image/png": "[encoded data removed]",
      "text/plain": [
       "<Figure size 432x288 with 1 Axes>"
      ]
     },
     "metadata": {
      "needs_background": "light"
     },
     "output_type": "display_data"
    }
   ],
   "source": [
    "drawLinearRegression(df, \"total sulfur dioxide\", \"quality\")\n"
   ]
  },
  {
   "cell_type": "code",
   "execution_count": 29,
   "metadata": {},
   "outputs": [
    {
     "data": {
      "image/png": "[encoded data removed]",
      "text/plain": [
       "<Figure size 432x288 with 1 Axes>"
      ]
     },
     "metadata": {
      "needs_background": "light"
     },
     "output_type": "display_data"
    }
   ],
   "source": [
    "drawLinearRegression(df, \"alcohol\", \"quality\")\n"
   ]
  },
  {
   "cell_type": "markdown",
   "metadata": {},
   "source": [
    "Từ đó ta xây được mô hình thông qua 3 đặc trưng: citric acid, total sulfur dioxide, alcohol"
   ]
  },
  {
   "cell_type": "code",
   "execution_count": 32,
   "metadata": {},
   "outputs": [
    {
     "name": "stdout",
     "output_type": "stream",
     "text": [
      "y = 0.63694 *x^3 + -0.00331 *x^2 + 0.3361 *x + 2.14316\n"
     ]
    }
   ],
   "source": [
    "myMatrix = createMatrix(df, [\"citric acid\", \"total sulfur dioxide\", \"alcohol\",  None])\n",
    "myResult = matrixResult(df, \"quality\")\n",
    "my = LinearRegression(myMatrix, myResult)\n",
    "a = round(my[0][0], 5)\n",
    "b = round(my[1][0], 5)\n",
    "c = round(my[2][0], 5)\n",
    "d = round(my[3][0], 5)\n",
    "\n",
    "print(\"y = \", end='')\n",
    "print(a, '*x^3 +', b, '*x^2 +', c, '*x +', d)"
   ]
  }
 ],
 "metadata": {
  "kernelspec": {
   "display_name": "Python 3.10.2 64-bit",
   "language": "python",
   "name": "python3"
  },
  "language_info": {
   "codemirror_mode": {
    "name": "ipython",
    "version": 3
   },
   "file_extension": ".py",
   "mimetype": "text/x-python",
   "name": "python",
   "nbconvert_exporter": "python",
   "pygments_lexer": "ipython3",
   "version": "3.10.2"
  },
  "orig_nbformat": 4,
  "vscode": {
   "interpreter": {
    "hash": "0c3f1a7d561c5e7000fe22e0f69c159d058d18792b6544b4cdea00d1b72ad225"
   }
  }
 },
 "nbformat": 4,
 "nbformat_minor": 2
}
