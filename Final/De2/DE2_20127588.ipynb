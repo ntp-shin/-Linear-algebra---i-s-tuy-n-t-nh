{
 "cells": [
  {
   "cell_type": "markdown",
   "metadata": {},
   "source": [
    "- Họ và tên: Nguyễn Tấn Phát\n",
    "- MSSV: 20127588\n",
    "- Lớp: 20CLC10"
   ]
  },
  {
   "cell_type": "markdown",
   "metadata": {},
   "source": [
    "**1. CÂU 1**"
   ]
  },
  {
   "cell_type": "code",
   "execution_count": 1,
   "metadata": {},
   "outputs": [],
   "source": [
    "from copy import deepcopy\n",
    "import random\n",
    "maxRandom = 10"
   ]
  },
  {
   "cell_type": "markdown",
   "metadata": {},
   "source": [
    "*a) Tạo ma trận vuông nxn*"
   ]
  },
  {
   "cell_type": "code",
   "execution_count": 2,
   "metadata": {},
   "outputs": [],
   "source": [
    "# Create random matrix n*n\n",
    "def create_ramdom_matrix(n: int):\n",
    "    m = []\n",
    "    for i in range(n):\n",
    "        row = []\n",
    "        for j in range(n):\n",
    "            row.append(random.randint(-maxRandom, maxRandom))\n",
    "        m.append(row)\n",
    "    return m"
   ]
  },
  {
   "cell_type": "markdown",
   "metadata": {},
   "source": [
    "*b) Phép nhân 2 ma trận*"
   ]
  },
  {
   "cell_type": "code",
   "execution_count": 3,
   "metadata": {},
   "outputs": [],
   "source": [
    "# Find multiplication of two matrices\n",
    "def multiplyMatrix(m1, m2):\n",
    "    numRow1 = len(m1)\n",
    "    numCol1 = len(m1[0])\n",
    "    numRow2 = len(m2)\n",
    "    numCol2 = len(m2[0])\n",
    "    if numCol1 != numRow2:\n",
    "        print(\"Error: Matrix multiplication not possible\")\n",
    "        return None\n",
    "    newMatrix = []\n",
    "    for i in range(numRow1):\n",
    "        row = []\n",
    "        for j in range(numCol2):\n",
    "            sum = 0\n",
    "            for k in range(numCol1):\n",
    "                sum += m1[i][k] * m2[k][j]\n",
    "            row.append(round(sum, 10))\n",
    "        newMatrix.append(row)\n",
    "    return newMatrix\n"
   ]
  },
  {
   "cell_type": "markdown",
   "metadata": {},
   "source": [
    "*c) Phép tính số mũ của ma trận*"
   ]
  },
  {
   "cell_type": "code",
   "execution_count": 4,
   "metadata": {},
   "outputs": [],
   "source": [
    "# Find exponentiation of matrix\n",
    "def exponentMatrix(matrix, m: int):\n",
    "    if m == 0:\n",
    "        mt = deepcopy(matrix)\n",
    "        n = len(matrix)\n",
    "        for i in range(n):\n",
    "            for j in range(n):\n",
    "                if i == j:\n",
    "                    mt[i][j] = 1\n",
    "                else:\n",
    "                    mt[i][j] = 0\n",
    "        return mt\n",
    "    if m == 1:\n",
    "        return matrix\n",
    "    if m > 1:\n",
    "        return multiplyMatrix(matrix, exponentMatrix(matrix, m - 1))"
   ]
  },
  {
   "cell_type": "markdown",
   "metadata": {},
   "source": [
    "*d) Phép in ma trận*"
   ]
  },
  {
   "cell_type": "code",
   "execution_count": 5,
   "metadata": {},
   "outputs": [],
   "source": [
    "# Print matrix\n",
    "def printMatrix(matrix):\n",
    "    if matrix is None:\n",
    "        print(\"Matrix is None\")\n",
    "        return\n",
    "    for i in range(len(matrix)):\n",
    "        for j in range(len(matrix[0])):\n",
    "            print(matrix[i][j], end = ' ')\n",
    "        print()"
   ]
  },
  {
   "cell_type": "markdown",
   "metadata": {},
   "source": [
    "*e) Test CÂU 1*"
   ]
  },
  {
   "cell_type": "markdown",
   "metadata": {},
   "source": [
    "- Tạo ma trận A nxn với n = 3"
   ]
  },
  {
   "cell_type": "code",
   "execution_count": 6,
   "metadata": {},
   "outputs": [
    {
     "name": "stdout",
     "output_type": "stream",
     "text": [
      "\n",
      "Matrix A:\n",
      "1 0.3333333333333333 0.5 0.25 0 \n",
      "0 0 0 0.25 0 \n",
      "0 0 0 0.25 0 \n",
      "0 0.3333333333333333 0.5 0 0 \n",
      "0 0.3333333333333333 0 0.25 1 \n"
     ]
    }
   ],
   "source": [
    "m = [[1, 1/3, 1/2, 1/4, 0], [0, 0, 0, 1/4, 0], [0, 0, 0, 1/4, 0], [0, 1/3, 1/2, 0, 0], [0, 1/3, 0, 1/4, 1]]\n",
    "print('\\nMatrix A:')\n",
    "printMatrix(m)"
   ]
  },
  {
   "cell_type": "markdown",
   "metadata": {},
   "source": []
  },
  {
   "cell_type": "markdown",
   "metadata": {},
   "source": [
    "- Tính A^3"
   ]
  },
  {
   "cell_type": "code",
   "execution_count": 22,
   "metadata": {},
   "outputs": [
    {
     "name": "stdout",
     "output_type": "stream",
     "text": [
      "\n",
      "Matrix A^2000:\n",
      "1.0 0.5263157893 0.7894736843 0.5789473678 0.0 \n",
      "0.0 0.0 0.0 0.0 0.0 \n",
      "0.0 0.0 0.0 0.0 0.0 \n",
      "0.0 0.0 0.0 0.0 0.0 \n",
      "0.0 0.4736842105 0.210526316 0.4210526311 1.0 \n",
      "\n",
      "Matrix pi0:\n",
      "0.5789473678 \n",
      "0.0 \n",
      "0.0 \n",
      "0.0 \n",
      "0.4210526311 \n"
     ]
    }
   ],
   "source": [
    "m2000 = exponentMatrix(m, 2000)\n",
    "pi0 = [[0], [0], [0], [1], [0]]\n",
    "print('\\nMatrix A^2000:')\n",
    "printMatrix(m2000)\n",
    "print('\\nMatrix pi0:')\n",
    "printMatrix(multiplyMatrix(m2000, pi0))"
   ]
  },
  {
   "cell_type": "markdown",
   "metadata": {},
   "source": [
    "**2. CÂU 2A**"
   ]
  },
  {
   "cell_type": "code",
   "execution_count": 8,
   "metadata": {},
   "outputs": [],
   "source": [
    "import pandas as pd\n",
    "import numpy as np\n",
    "input = pd.read_csv('weights.csv', sep=',')"
   ]
  },
  {
   "cell_type": "markdown",
   "metadata": {},
   "source": [
    "*a) Lấy Title*"
   ]
  },
  {
   "cell_type": "markdown",
   "metadata": {},
   "source": [
    "- Lấy toàn bộ tên title của x: return list\n",
    "- *title = None tượng trưng cho hệ số tự do*"
   ]
  },
  {
   "cell_type": "code",
   "execution_count": 9,
   "metadata": {},
   "outputs": [],
   "source": [
    "def getFullTitles(data: pd):\n",
    "    titles = []\n",
    "    colums = data.columns\n",
    "    n = len(colums)\n",
    "    for i in range(n):\n",
    "        if i != 0 and i < n - 1:\n",
    "            titles.append(colums[i])\n",
    "    return titles"
   ]
  },
  {
   "cell_type": "markdown",
   "metadata": {},
   "source": [
    "- Lấy title của biến phụ thuộc: return string"
   ]
  },
  {
   "cell_type": "code",
   "execution_count": 10,
   "metadata": {},
   "outputs": [],
   "source": [
    "def getResultTitle(data: pd):\n",
    "    colums = data.columns\n",
    "    return str(colums[-1])"
   ]
  },
  {
   "cell_type": "markdown",
   "metadata": {},
   "source": [
    "*b) Tạo ma trận dạng numpy*"
   ]
  },
  {
   "cell_type": "markdown",
   "metadata": {},
   "source": [
    "- Tạo ma trận với các biến độc lập x\n",
    "- *title = None tượng trưng cho hệ số tự do*\n",
    "- *title = list tượng trương cho các cột trong list nhân lại với nhau*"
   ]
  },
  {
   "cell_type": "code",
   "execution_count": 11,
   "metadata": {},
   "outputs": [],
   "source": [
    "def createMatrix(data: pd, titles: list):\n",
    "    colum0 = data[titles[0]]\n",
    "\n",
    "    if colum0 is None:\n",
    "        return None\n",
    "\n",
    "    matrix = np.array([colum0]).T\n",
    "    colum0 = np.array([colum0]).T\n",
    "\n",
    "    num = len(titles)\n",
    "    for i in range(1, num):\n",
    "        title = titles[i]\n",
    "        if type(title) is list:\n",
    "            col = np.ones(colum0.shape, dtype=np.int8)\n",
    "            for t in title:\n",
    "                temp = np.array([data[t]]).T\n",
    "                col = col * temp\n",
    "            matrix = np.concatenate((matrix, col), axis= 1)\n",
    "        elif title == None:\n",
    "            ones = np.ones(colum0.shape, dtype=np.int8)\n",
    "            matrix = np.concatenate((matrix, ones), axis= 1)\n",
    "        else:\n",
    "            colum = np.array([data[title]]).T\n",
    "            matrix = np.concatenate((matrix, colum), axis= 1)\n",
    "    return matrix"
   ]
  },
  {
   "cell_type": "markdown",
   "metadata": {},
   "source": [
    "- Tạo ma trận kết quả trả về (biến phụ thuộc y)"
   ]
  },
  {
   "cell_type": "code",
   "execution_count": 12,
   "metadata": {},
   "outputs": [],
   "source": [
    "def matrixResult(data: pd, title: str):\n",
    "    colum = np.array([data[title]]).T\n",
    "    return colum"
   ]
  },
  {
   "cell_type": "markdown",
   "metadata": {},
   "source": [
    "*c) Hồi quy tuyến tính*"
   ]
  },
  {
   "cell_type": "code",
   "execution_count": 13,
   "metadata": {},
   "outputs": [],
   "source": [
    "def LinearRegression(matrix: np, result: np):\n",
    "    # x = (A.T * A)^-1 * A.T * b = [a b] trong y =ax + b\n",
    "    #x = np.linalg.inv(A.transpose().dot(A)).dot(A.transpose()).dot(b)\n",
    "    x = np.linalg.inv(matrix.transpose().dot(matrix)).dot(matrix.transpose()).dot(result)\n",
    "    return x"
   ]
  },
  {
   "cell_type": "markdown",
   "metadata": {},
   "source": [
    "*d) Residuals Sum of Squares*"
   ]
  },
  {
   "cell_type": "code",
   "execution_count": 14,
   "metadata": {},
   "outputs": [],
   "source": [
    "def RSS(data: pd, titles: list, titleResult: str):\n",
    "    matrix = createMatrix(data, titles)\n",
    "    result = matrixResult(data, titleResult)\n",
    "    x = LinearRegression(matrix, result)\n",
    "    y = matrix.dot(x)\n",
    "    # return np.sum((y - result) ** 2)\n",
    "    rss = 0\n",
    "    for i in range(len(y)):\n",
    "        rss += (y[i][0] - result[i][0]) ** 2\n",
    "    return rss"
   ]
  },
  {
   "cell_type": "markdown",
   "metadata": {},
   "source": [
    "*e) Phương trình đường thẳng*"
   ]
  },
  {
   "cell_type": "code",
   "execution_count": 15,
   "metadata": {},
   "outputs": [],
   "source": [
    "# Phương trình đường thẳng\n",
    "def ptdt(matrix: np, result: np):\n",
    "\n",
    "    x = LinearRegression(matrix, result)\n",
    "    string = 'y = '\n",
    "    for i in range(len(x)):\n",
    "        b = 'x' + str(i + 1)\n",
    "        string += str(round(x[i][0], 10))\n",
    "        \n",
    "        if i != len(x) - 1:\n",
    "            string += '*' + b + ' + '\n",
    "    return string"
   ]
  },
  {
   "cell_type": "markdown",
   "metadata": {},
   "source": [
    "***Yêu cầu đề bài***"
   ]
  },
  {
   "cell_type": "code",
   "execution_count": 16,
   "metadata": {},
   "outputs": [
    {
     "name": "stdout",
     "output_type": "stream",
     "text": [
      "y = 0.9014721808*x1 + 0.1776967665*x2 + 24.2140159875\n",
      "RSS: 574.0646701702215\n"
     ]
    }
   ],
   "source": [
    "def cau2a(data: pd):\n",
    "    titles = getFullTitles(input)\n",
    "    titles.append(None) #He so tu do\n",
    "    titleResult = getResultTitle(input)\n",
    "\n",
    "    matrix = createMatrix(input, titles)\n",
    "    result = matrixResult(input, titleResult)\n",
    "\n",
    "    pt = ptdt(matrix, result)\n",
    "    print(pt)\n",
    "    print('RSS:', RSS(input, titles, titleResult))\n",
    "\n",
    "cau2a(input)\n",
    "    "
   ]
  },
  {
   "cell_type": "markdown",
   "metadata": {},
   "source": [
    "**CÂU 2B**"
   ]
  },
  {
   "cell_type": "markdown",
   "metadata": {},
   "source": [
    "***b1 In ra 3 phương trình dạng:***"
   ]
  },
  {
   "cell_type": "markdown",
   "metadata": {},
   "source": [
    "- 𝑦̂ = 𝑏0 + 𝑏1𝑥1"
   ]
  },
  {
   "cell_type": "code",
   "execution_count": 17,
   "metadata": {},
   "outputs": [
    {
     "name": "stdout",
     "output_type": "stream",
     "text": [
      "y = 0.1783078199*x1 + -5.4121447595\n",
      "97.72301717340709\n"
     ]
    }
   ],
   "source": [
    "titles1 = ['length', None]\n",
    "title = 'weight'\n",
    "matrix = createMatrix(input, titles1)\n",
    "result = matrixResult(input, title)\n",
    "print(ptdt(matrix, result))\n",
    "print(RSS(input, titles1, title))\n"
   ]
  },
  {
   "cell_type": "markdown",
   "metadata": {},
   "source": [
    "- 𝑦̂ = 𝑏0 + 𝑏2𝑥2"
   ]
  },
  {
   "cell_type": "code",
   "execution_count": 18,
   "metadata": {},
   "outputs": [
    {
     "name": "stdout",
     "output_type": "stream",
     "text": [
      "y = 0.2751341831*x1 + -6.0598667251\n",
      "121.79803049315548\n"
     ]
    }
   ],
   "source": [
    "titles2 = ['headc', None]\n",
    "title = 'weight'\n",
    "matrix = createMatrix(input, titles2)\n",
    "result = matrixResult(input, title)\n",
    "print(ptdt(matrix, result))\n",
    "print(RSS(input, titles2, title))\n"
   ]
  },
  {
   "cell_type": "markdown",
   "metadata": {},
   "source": [
    "- 𝑦 = 𝑏0 + 𝑏1𝑥1 + 𝑏2𝑥2."
   ]
  },
  {
   "cell_type": "code",
   "execution_count": 19,
   "metadata": {},
   "outputs": [
    {
     "name": "stdout",
     "output_type": "stream",
     "text": [
      "y = 0.1326837332*x1 + 0.1348084882*x2 + -8.0186827933\n",
      "85.84711983373656\n"
     ]
    }
   ],
   "source": [
    "titles3 = ['length','headc', None]\n",
    "title = 'weight'\n",
    "matrix = createMatrix(input, titles3)\n",
    "result = matrixResult(input, title)\n",
    "print(ptdt(matrix, result))\n",
    "print(RSS(input, titles3, title))"
   ]
  },
  {
   "cell_type": "markdown",
   "metadata": {},
   "source": [
    "***b2) In ra phương trình có tương tác dạng  𝑦̂ = 𝑏0 + 𝑏1𝑥1 + 𝑏2𝑥2 + 𝑐𝑥1𝑥2***"
   ]
  },
  {
   "cell_type": "code",
   "execution_count": 20,
   "metadata": {},
   "outputs": [
    {
     "name": "stdout",
     "output_type": "stream",
     "text": [
      "y = 0.2104599904*x1 + 0.2465636759*x2 + -0.002044946*x3 + -12.2651648807\n",
      "85.81756053333926\n"
     ]
    }
   ],
   "source": [
    "titles = ['length', 'headc', ['length', 'headc'], None]\n",
    "title = 'weight'\n",
    "matrix = createMatrix(input, titles)\n",
    "result = matrixResult(input, title)\n",
    "print(ptdt(matrix, result))\n",
    "print(RSS(input, titles, title))\n",
    "# x3 = x2 * x1"
   ]
  },
  {
   "cell_type": "markdown",
   "metadata": {},
   "source": [
    "***Đề xuất mô hình dự đoán: y = a.x1 + b.x2 + c. Giải thích***"
   ]
  },
  {
   "cell_type": "markdown",
   "metadata": {},
   "source": [
    "- Đây là mô hình có tổng RSS thấp nhất.\n",
    "- Lúc mới sinh (1 tháng), cơ thể chưa phát triển nhiều. Do đó 'cân nặng' khá phụ thuộc vào cả kích thước đầu và chiều dài cơ thể.\n",
    "- 'chiều dài cơ thể không liên quan nhiều đến chu vi vòng đầu' nên không chọn 'phương trình có dạng tương tác'"
   ]
  },
  {
   "cell_type": "code",
   "execution_count": 21,
   "metadata": {},
   "outputs": [
    {
     "name": "stdout",
     "output_type": "stream",
     "text": [
      "4.667012549172631\n"
     ]
    }
   ],
   "source": [
    "x1 = 57\n",
    "x2 = 38\n",
    "matrix = createMatrix(input, titles3)\n",
    "result = matrixResult(input, title)\n",
    "abc = LinearRegression(matrix, result)\n",
    "x = np.array([[x1, x2, 1]])\n",
    "y = x.dot(abc)\n",
    "print(y[0][0])"
   ]
  }
 ],
 "metadata": {
  "kernelspec": {
   "display_name": "Python 3.9.13 64-bit (windows store)",
   "language": "python",
   "name": "python3"
  },
  "language_info": {
   "codemirror_mode": {
    "name": "ipython",
    "version": 3
   },
   "file_extension": ".py",
   "mimetype": "text/x-python",
   "name": "python",
   "nbconvert_exporter": "python",
   "pygments_lexer": "ipython3",
   "version": "3.9.13"
  },
  "orig_nbformat": 4,
  "vscode": {
   "interpreter": {
    "hash": "aa5b096c21169955146254bacc3490fd7fc81825a4d0bc81eb7afc2e0af2c372"
   }
  }
 },
 "nbformat": 4,
 "nbformat_minor": 2
}
