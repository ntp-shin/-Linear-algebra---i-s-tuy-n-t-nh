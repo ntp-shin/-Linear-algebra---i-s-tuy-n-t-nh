{
 "cells": [
  {
   "cell_type": "markdown",
   "metadata": {},
   "source": [
    "- Họ và tên: Nguyễn Tấn Phát\n",
    "- MSSV: 20127588 \n",
    "- Lớp: 20CLC10"
   ]
  },
  {
   "cell_type": "markdown",
   "metadata": {},
   "source": [
    "**1. CÂU 1**"
   ]
  },
  {
   "cell_type": "markdown",
   "metadata": {},
   "source": [
    "*Tạo ma trận theo yêu cầu đề và hàm print*"
   ]
  },
  {
   "cell_type": "code",
   "execution_count": null,
   "metadata": {},
   "outputs": [],
   "source": [
    "def create_draw_matrix(n: int):\n",
    "    matrix = []\n",
    "    for i in range(n):\n",
    "        matrix.append([])\n",
    "        for j in range(n):\n",
    "            if i == 0 or j == 0 or j == n - 1 or i == n - 1:\n",
    "                matrix[i].append(1)\n",
    "            else:\n",
    "                if i == j:\n",
    "                    matrix[i].append('A')\n",
    "                else:\n",
    "                    if i + j == n - 1:\n",
    "                        matrix[i].append('B')\n",
    "                    else:\n",
    "                        matrix[i].append(0)\n",
    "    return matrix\n",
    "\n",
    "def printMatrix1(matrix):\n",
    "    if matrix is None:\n",
    "        print(\"Matrix is None\")\n",
    "        return\n",
    "    for i in range(len(matrix)):\n",
    "        for j in range(len(matrix[0])):\n",
    "            print(matrix[i][j], end = ' ')\n",
    "        print()"
   ]
  },
  {
   "cell_type": "markdown",
   "metadata": {},
   "source": [
    "*Test với n = 10*"
   ]
  },
  {
   "cell_type": "code",
   "execution_count": null,
   "metadata": {},
   "outputs": [
    {
     "name": "stdout",
     "output_type": "stream",
     "text": [
      "1 1 1 1 1 1 1 1 1 1 \n",
      "1 A 0 0 0 0 0 0 B 1 \n",
      "1 0 A 0 0 0 0 B 0 1 \n",
      "1 0 0 A 0 0 B 0 0 1 \n",
      "1 0 0 0 A B 0 0 0 1 \n",
      "1 0 0 0 B A 0 0 0 1 \n",
      "1 0 0 B 0 0 A 0 0 1 \n",
      "1 0 B 0 0 0 0 A 0 1 \n",
      "1 B 0 0 0 0 0 0 A 1 \n",
      "1 1 1 1 1 1 1 1 1 1 \n"
     ]
    }
   ],
   "source": [
    "m = create_draw_matrix(10)\n",
    "printMatrix1(m)"
   ]
  },
  {
   "cell_type": "markdown",
   "metadata": {},
   "source": [
    "*Test với n = 15*"
   ]
  },
  {
   "cell_type": "code",
   "execution_count": null,
   "metadata": {},
   "outputs": [
    {
     "name": "stdout",
     "output_type": "stream",
     "text": [
      "1 1 1 1 1 1 1 1 1 1 1 1 1 1 1 \n",
      "1 A 0 0 0 0 0 0 0 0 0 0 0 B 1 \n",
      "1 0 A 0 0 0 0 0 0 0 0 0 B 0 1 \n",
      "1 0 0 A 0 0 0 0 0 0 0 B 0 0 1 \n",
      "1 0 0 0 A 0 0 0 0 0 B 0 0 0 1 \n",
      "1 0 0 0 0 A 0 0 0 B 0 0 0 0 1 \n",
      "1 0 0 0 0 0 A 0 B 0 0 0 0 0 1 \n",
      "1 0 0 0 0 0 0 A 0 0 0 0 0 0 1 \n",
      "1 0 0 0 0 0 B 0 A 0 0 0 0 0 1 \n",
      "1 0 0 0 0 B 0 0 0 A 0 0 0 0 1 \n",
      "1 0 0 0 B 0 0 0 0 0 A 0 0 0 1 \n",
      "1 0 0 B 0 0 0 0 0 0 0 A 0 0 1 \n",
      "1 0 B 0 0 0 0 0 0 0 0 0 A 0 1 \n",
      "1 B 0 0 0 0 0 0 0 0 0 0 0 A 1 \n",
      "1 1 1 1 1 1 1 1 1 1 1 1 1 1 1 \n"
     ]
    }
   ],
   "source": [
    "m = create_draw_matrix(15)\n",
    "printMatrix1(m)"
   ]
  },
  {
   "cell_type": "markdown",
   "metadata": {},
   "source": [
    "**2. CÂU 2A**"
   ]
  },
  {
   "cell_type": "code",
   "execution_count": null,
   "metadata": {},
   "outputs": [],
   "source": [
    "#Phan ra QR - \n",
    "from cmath import sqrt\n",
    "import copy"
   ]
  },
  {
   "cell_type": "markdown",
   "metadata": {},
   "source": [
    "*2.1 Vector - Gồm các hàm về vector*\n",
    "\n",
    " - 1 vector = 1 list, 1 phần tử là một số /n\n",
    " - Các hàm đều trả về một vector trừ hàm nhân vô hướng 2vector (.dot)"
   ]
  },
  {
   "cell_type": "markdown",
   "metadata": {},
   "source": [
    "a) Nhân vector với một số"
   ]
  },
  {
   "cell_type": "code",
   "execution_count": null,
   "metadata": {},
   "outputs": [],
   "source": [
    "def mulVectorWithNumber(vector, number):\n",
    "    result = []\n",
    "    for i in range(len(vector)):\n",
    "        result.append(vector[i] * number)\n",
    "    return result"
   ]
  },
  {
   "cell_type": "markdown",
   "metadata": {},
   "source": [
    "b) Nhân 2 vector với nhau"
   ]
  },
  {
   "cell_type": "code",
   "execution_count": 34,
   "metadata": {},
   "outputs": [],
   "source": [
    "def mulTwoVector(vector1, vector2):\n",
    "    result = 0\n",
    "    if len(vector1) != len(vector2):\n",
    "        return -1\n",
    "    for i in range(len(vector1)):\n",
    "        result += vector1[i] * vector2[i]\n",
    "    if abs(result) < 0.0001:\n",
    "        return 0\n",
    "    return result"
   ]
  },
  {
   "cell_type": "markdown",
   "metadata": {},
   "source": [
    "c) Trừ 2 vector với nhau\n"
   ]
  },
  {
   "cell_type": "code",
   "execution_count": 35,
   "metadata": {},
   "outputs": [],
   "source": [
    "def minusTwoVector(vector1, vector2):\n",
    "    result = []\n",
    "    for i in range(len(vector1)):\n",
    "        result.append(vector1[i] - vector2[i])\n",
    "    return result"
   ]
  },
  {
   "cell_type": "markdown",
   "metadata": {},
   "source": [
    "*2.2 Các hàm về Ma trận*"
   ]
  },
  {
   "cell_type": "markdown",
   "metadata": {},
   "source": [
    "a) Convert Matrix: Đưa ma trận từ chiều ngang sang chiều dọc. Mục đích để lấy các cột của ma trận để tính toán. Cuối cùng covert thêm một lần nữa để trả về kết quả ban đầu."
   ]
  },
  {
   "cell_type": "code",
   "execution_count": 36,
   "metadata": {},
   "outputs": [],
   "source": [
    "def convertMatrix(matrix):\n",
    "    numRow = len(matrix)\n",
    "    numCol = len(matrix[0])\n",
    "    newMatrix = []\n",
    "    for j in range(numCol):\n",
    "        colum = []\n",
    "        for i in range(numRow):\n",
    "            colum.append(matrix[i][j])\n",
    "        newMatrix.append(colum)\n",
    "    return newMatrix"
   ]
  },
  {
   "cell_type": "markdown",
   "metadata": {},
   "source": [
    "b) realMatrix: làm các giá trị của ô trong ma trận trở nên đẹp và gọn hơn"
   ]
  },
  {
   "cell_type": "code",
   "execution_count": 37,
   "metadata": {},
   "outputs": [],
   "source": [
    "def realMatrix(matrix):\n",
    "    for i in range(len(matrix)):\n",
    "        for j in range(len(matrix[0])):\n",
    "            matrix[i][j] = matrix[i][j].real\n",
    "    return matrix"
   ]
  },
  {
   "cell_type": "markdown",
   "metadata": {},
   "source": [
    "c) mulMatrix: Nhân 2 ma trận với nhau"
   ]
  },
  {
   "cell_type": "code",
   "execution_count": 38,
   "metadata": {},
   "outputs": [],
   "source": [
    "def multiplyMatrix(m1, m2):\n",
    "    numRow1 = len(m1)\n",
    "    numCol1 = len(m1[0])\n",
    "    numRow2 = len(m2)\n",
    "    numCol2 = len(m2[0])\n",
    "    if numCol1 != numRow2:\n",
    "        print(\"Error: Matrix multiplication not possible\")\n",
    "        return None\n",
    "    newMatrix = []\n",
    "    for i in range(numRow1):\n",
    "        row = []\n",
    "        for j in range(numCol2):\n",
    "            sum = 0\n",
    "            for k in range(numCol1):\n",
    "                sum += m1[i][k] * m2[k][j]\n",
    "            row.append(round(sum))\n",
    "        newMatrix.append(row)\n",
    "    return newMatrix"
   ]
  },
  {
   "cell_type": "markdown",
   "metadata": {},
   "source": [
    "d) Print Matrix: In ma trận ra console"
   ]
  },
  {
   "cell_type": "code",
   "execution_count": 39,
   "metadata": {},
   "outputs": [],
   "source": [
    "def printMatrix(matrix):\n",
    "    if matrix is None:\n",
    "        print(\"--> Matrix is None\\n\")\n",
    "        return\n",
    "    for i in range(len(matrix)):\n",
    "        for j in range(len(matrix[0])):\n",
    "            print(matrix[i][j], end = ' ')\n",
    "        print()"
   ]
  },
  {
   "cell_type": "markdown",
   "metadata": {},
   "source": [
    "*2.3 Các hàm về thuật toán Gram Schmidt*"
   ]
  },
  {
   "cell_type": "markdown",
   "metadata": {},
   "source": [
    "a) proj(): tính <u, v> * u / <u, u>"
   ]
  },
  {
   "cell_type": "code",
   "execution_count": 40,
   "metadata": {},
   "outputs": [],
   "source": [
    "def proj(u, v):\n",
    "    result = copy.deepcopy(u)\n",
    "    heso = mulTwoVector(u, v) / mulTwoVector(u, u)\n",
    "    for i in range(len(u)):\n",
    "        result[i] = u[i] * heso\n",
    "    return result"
   ]
  },
  {
   "cell_type": "markdown",
   "metadata": {},
   "source": [
    "b) Gram Schmidt: Thuật toán tìm ma trận Q"
   ]
  },
  {
   "cell_type": "code",
   "execution_count": 41,
   "metadata": {},
   "outputs": [],
   "source": [
    "def GramSchmidt(matrixInput):\n",
    "    matrix = convertMatrix(matrixInput)\n",
    "    numRow = len(matrix)\n",
    "    numCol = len(matrix[0])\n",
    "\n",
    "    resultMatrix = []\n",
    "    u0 = matrix[0]\n",
    "    v0 = mulVectorWithNumber(u0, 1 / sqrt(mulTwoVector(u0, u0)))\n",
    "    resultMatrix.append(v0)\n",
    "    for i in range(1, numRow):\n",
    "        ui = matrix[i]\n",
    "        for j in range(0, i):\n",
    "            ui = minusTwoVector(ui, proj(resultMatrix[j], ui))\n",
    "        vi = mulVectorWithNumber(ui, 1 / sqrt(mulTwoVector(ui, ui)))\n",
    "        resultMatrix.append(vi)\n",
    "    return convertMatrix(resultMatrix)"
   ]
  },
  {
   "cell_type": "markdown",
   "metadata": {},
   "source": [
    "c) find QR: Tìm ma trận R dựa trên Q"
   ]
  },
  {
   "cell_type": "code",
   "execution_count": 42,
   "metadata": {},
   "outputs": [],
   "source": [
    "def findQR(matrixInput):\n",
    "    matrix = convertMatrix(matrixInput)\n",
    "\n",
    "    Q = GramSchmidt(matrixInput)\n",
    "    Qconvert = convertMatrix(Q)\n",
    "    R = []\n",
    "\n",
    "    for i in range(len(matrix)):\n",
    "        row = []\n",
    "        for j in range(len(matrix)):\n",
    "            if j < i:\n",
    "                row.append(0)\n",
    "            else:\n",
    "                row.append(mulTwoVector(Qconvert[i], matrix[j]))\n",
    "        R.append(row)\n",
    "    return realMatrix(Q), realMatrix(R)"
   ]
  },
  {
   "cell_type": "markdown",
   "metadata": {},
   "source": [
    "*2.4 Test case*"
   ]
  },
  {
   "cell_type": "markdown",
   "metadata": {},
   "source": [
    "4.1 A = [[1, 1, 2], [2, -1, 1], [-2, 4, 1]]"
   ]
  },
  {
   "cell_type": "code",
   "execution_count": 43,
   "metadata": {},
   "outputs": [
    {
     "name": "stdout",
     "output_type": "stream",
     "text": [
      "\n",
      "Q matrix:\n",
      "0.3333333333333333 0.6666666666666666 0.6666666666666672 \n",
      "0.6666666666666666 0.3333333333333333 -0.6666666666666665 \n",
      "-0.6666666666666666 0.6666666666666666 -0.3333333333333329 \n",
      "\n",
      "R matrix:\n",
      "3.0 -3.0 0.6666666666666666 \n",
      "0 3.0 2.333333333333333 \n",
      "0 0 0.3333333333333349 \n",
      "\n",
      "A = QR matrix:\n",
      "1 1 2 \n",
      "2 -1 1 \n",
      "-2 4 1 \n"
     ]
    }
   ],
   "source": [
    "A = [[1, 1, 2], [2, -1, 1], [-2, 4, 1]]\n",
    "Q, R = findQR(A)\n",
    "print('\\nQ matrix:')\n",
    "printMatrix(Q)\n",
    "print('\\nR matrix:')\n",
    "printMatrix(R)\n",
    "print('\\nA = QR matrix:')\n",
    "printMatrix(multiplyMatrix(Q, R))"
   ]
  },
  {
   "cell_type": "markdown",
   "metadata": {},
   "source": [
    "4.2 A = [[1, 1, 1], [2, -2, 2], [1, 1, -1]]"
   ]
  },
  {
   "cell_type": "code",
   "execution_count": 44,
   "metadata": {},
   "outputs": [
    {
     "name": "stdout",
     "output_type": "stream",
     "text": [
      "\n",
      "Q matrix:\n",
      "0.4082482904638631 0.5773502691896256 0.7071067811865476 \n",
      "0.8164965809277261 -0.5773502691896257 0.0 \n",
      "0.4082482904638631 0.5773502691896256 -0.7071067811865475 \n",
      "\n",
      "R matrix:\n",
      "2.4494897427831783 -0.816496580927726 1.632993161855452 \n",
      "0 2.309401076758503 -1.1547005383792515 \n",
      "0 0 1.414213562373095 \n",
      "\n",
      "A = QR matrix:\n",
      "1 1 1 \n",
      "2 -2 2 \n",
      "1 1 -1 \n"
     ]
    }
   ],
   "source": [
    "A = [[1, 1, 1], [2, -2, 2], [1, 1, -1]]\n",
    "Q, R = findQR(A)\n",
    "print('\\nQ matrix:')\n",
    "printMatrix(Q)\n",
    "print('\\nR matrix:')\n",
    "printMatrix(R)\n",
    "print('\\nA = QR matrix:')\n",
    "printMatrix(multiplyMatrix(Q, R))"
   ]
  },
  {
   "cell_type": "markdown",
   "metadata": {},
   "source": [
    "4.3 Ma trận số 1 của đề"
   ]
  },
  {
   "cell_type": "code",
   "execution_count": 45,
   "metadata": {},
   "outputs": [
    {
     "name": "stdout",
     "output_type": "stream",
     "text": [
      "\n",
      "Q matrix:\n",
      "0.3333333333333333 0.6666666666666666 0.6666666666666672 \n",
      "0.6666666666666666 0.3333333333333333 -0.6666666666666665 \n",
      "-0.6666666666666666 0.6666666666666666 -0.3333333333333329 \n",
      "\n",
      "R matrix:\n",
      "3.0 -3.0 0.6666666666666666 \n",
      "0 3.0 2.333333333333333 \n",
      "0 0 0.3333333333333349 \n",
      "\n",
      "A = QR matrix:\n",
      "1 1 2 \n",
      "2 -1 1 \n",
      "-2 4 1 \n"
     ]
    }
   ],
   "source": [
    "A = [[1, 1, 2], [2, -1, 1], [-2, 4, 1]]\n",
    "Q, R = findQR(A)\n",
    "print('\\nQ matrix:')\n",
    "printMatrix(Q)\n",
    "print('\\nR matrix:')\n",
    "printMatrix(R)\n",
    "print('\\nA = QR matrix:')\n",
    "printMatrix(multiplyMatrix(Q, R))"
   ]
  },
  {
   "cell_type": "markdown",
   "metadata": {},
   "source": [
    "4.4 Ma trận số 2 của đề"
   ]
  },
  {
   "cell_type": "code",
   "execution_count": 46,
   "metadata": {},
   "outputs": [
    {
     "name": "stdout",
     "output_type": "stream",
     "text": [
      "\n",
      "Q matrix:\n",
      "0.2857142857142857 0.9285714285714285 0.07142857142857142 -0.07142857142857142 \n",
      "0.8571428571428571 -0.21428571428571427 0.21428571428571427 -0.21428571428571433 \n",
      "0.2857142857142857 -0.07142857142857142 -0.9285714285714285 -0.07142857142857142 \n",
      "0.14285714285714285 -0.2857142857142857 0.2857142857142857 -0.28571428571428564 \n",
      "0.2857142857142857 -0.07142857142857142 0.07142857142857142 0.9285714285714285 \n",
      "\n",
      "R matrix:\n",
      "13.999999999999998 48.99999999999999 63.0 35.0 \n",
      "0 55.999999999999986 84.0 41.99999999999999 \n",
      "0 0 42.0 28.0 \n",
      "0 0 0 28.0 \n",
      "\n",
      "A = QR matrix:\n",
      "4 66 99 49 \n",
      "12 30 45 21 \n",
      "4 10 -27 -21 \n",
      "2 -9 -3 -7 \n",
      "4 10 15 35 \n"
     ]
    }
   ],
   "source": [
    "A = [[4, 66, 99, 49], [12, 30, 45, 21], [4, 10, -27, -21], [2, -9, -3, -7], [4, 10, 15, 35]]\n",
    "Q, R = findQR(A)\n",
    "print('\\nQ matrix:')\n",
    "printMatrix(Q)\n",
    "print('\\nR matrix:')\n",
    "printMatrix(R)\n",
    "print('\\nA = QR matrix:')\n",
    "printMatrix(multiplyMatrix(Q, R))"
   ]
  },
  {
   "cell_type": "markdown",
   "metadata": {},
   "source": [
    "**3. CÂU 2B** ==> Qconvert = Q.T"
   ]
  },
  {
   "cell_type": "markdown",
   "metadata": {},
   "source": [
    "- A = Q*R\n",
    "    + Q là ma trận trực giao: Q(-1) = Q.T\n",
    "    + R mà ma trận tam giác\n",
    "- .....\n",
    "- A.X = B\n",
    "- Q.RX = B\n",
    "- RX = Q(-1).B = Q.T * B\n",
    "- ***==> Tìm RX. Đặt RX = Y***"
   ]
  },
  {
   "cell_type": "code",
   "execution_count": 47,
   "metadata": {},
   "outputs": [
    {
     "name": "stdout",
     "output_type": "stream",
     "text": [
      "\n",
      "Y = RX matrix:\n",
      "-3 \n",
      "12 \n",
      "-6 \n"
     ]
    }
   ],
   "source": [
    "def findMatrixRX(ma, mb):\n",
    "    Q = findQR(ma)[0]\n",
    "    Qconvert = convertMatrix(Q)\n",
    "    return multiplyMatrix(Qconvert, mb)\n",
    "\n",
    "A = [[1, 1, 2], [2, -1, 1], [-2, 4, 1]]\n",
    "B = [[3], [6], [12]]\n",
    "C = findMatrixRX(A, B)\n",
    "print('\\nY = RX matrix:')\n",
    "printMatrix(C)"
   ]
  },
  {
   "cell_type": "markdown",
   "metadata": {},
   "source": [
    "- RX = Y\n",
    "- ***Tìm X***"
   ]
  },
  {
   "cell_type": "code",
   "execution_count": 48,
   "metadata": {},
   "outputs": [],
   "source": [
    "def findX(ma, mb):\n",
    "    result = []\n",
    "    n = len(ma[0])\n",
    "    for i in range(n):\n",
    "        result.append(i)\n",
    "\n",
    "    R = findQR(ma)[1]\n",
    "    Y = findMatrixRX(ma, mb)\n",
    "\n",
    "    for i in range(n - 1, -1, -1):\n",
    "        result[i] = Y[i][0]\n",
    "        for j in range(n - 1, -1, -1):\n",
    "            if i == j:\n",
    "                result[i] /= R[i][i]\n",
    "                break\n",
    "            else:\n",
    "                result[i] -= R[i][j] * result[j]\n",
    "    return result"
   ]
  },
  {
   "cell_type": "markdown",
   "metadata": {},
   "source": [
    "*Test 1*"
   ]
  },
  {
   "cell_type": "code",
   "execution_count": 49,
   "metadata": {},
   "outputs": [
    {
     "name": "stdout",
     "output_type": "stream",
     "text": [
      "[20.999999999999915, 17.999999999999932, -17.999999999999915]\n"
     ]
    }
   ],
   "source": [
    "A = [[1, 1, 2], [2, -1, 1], [-2, 4, 1]]\n",
    "B = [[3], [6], [12]]\n",
    "X = findX(A, B)\n",
    "print(X)"
   ]
  },
  {
   "cell_type": "markdown",
   "metadata": {},
   "source": [
    "*Test 2*"
   ]
  },
  {
   "cell_type": "code",
   "execution_count": 50,
   "metadata": {},
   "outputs": [
    {
     "name": "stdout",
     "output_type": "stream",
     "text": [
      "[0.09375000000000007, -0.06250000000000003, 0.047619047619047616, -0.03571428571428571]\n"
     ]
    }
   ],
   "source": [
    "C = [[4, 66, 99, 49], [12, 30, 45, 21], [4, 10, -27, -21], [2, -9, -3, -7], [4, 10, 15, 35]]\n",
    "D = [[-1], [1], [-1], [1], [-1/3]]\n",
    "Y = findX(C, D)\n",
    "print(Y)"
   ]
  },
  {
   "cell_type": "code",
   "execution_count": 53,
   "metadata": {},
   "outputs": [
    {
     "ename": "ZeroDivisionError",
     "evalue": "complex division by zero",
     "output_type": "error",
     "traceback": [
      "\u001b[1;31m---------------------------------------------------------------------------\u001b[0m",
      "\u001b[1;31mZeroDivisionError\u001b[0m                         Traceback (most recent call last)",
      "\u001b[1;32md:\\Project\\Math\\Final\\20127588.ipynb Cell 52\u001b[0m in \u001b[0;36m<cell line: 3>\u001b[1;34m()\u001b[0m\n\u001b[0;32m      <a href='vscode-notebook-cell:/d%3A/Project/Math/Final/20127588.ipynb#Y102sZmlsZQ%3D%3D?line=0'>1</a>\u001b[0m A1 \u001b[39m=\u001b[39m [[\u001b[39m1\u001b[39m, \u001b[39m1\u001b[39m\u001b[39m/\u001b[39m\u001b[39m3\u001b[39m, \u001b[39m1\u001b[39m\u001b[39m/\u001b[39m\u001b[39m2\u001b[39m, \u001b[39m1\u001b[39m\u001b[39m/\u001b[39m\u001b[39m4\u001b[39m, \u001b[39m0\u001b[39m], [\u001b[39m0\u001b[39m, \u001b[39m0\u001b[39m, \u001b[39m0\u001b[39m, \u001b[39m1\u001b[39m\u001b[39m/\u001b[39m\u001b[39m4\u001b[39m, \u001b[39m0\u001b[39m], [\u001b[39m0\u001b[39m, \u001b[39m0\u001b[39m, \u001b[39m0\u001b[39m, \u001b[39m1\u001b[39m\u001b[39m/\u001b[39m\u001b[39m4\u001b[39m, \u001b[39m0\u001b[39m], [\u001b[39m0\u001b[39m, \u001b[39m1\u001b[39m\u001b[39m/\u001b[39m\u001b[39m3\u001b[39m, \u001b[39m1\u001b[39m\u001b[39m/\u001b[39m\u001b[39m2\u001b[39m, \u001b[39m0\u001b[39m, \u001b[39m0\u001b[39m], [\u001b[39m0\u001b[39m, \u001b[39m1\u001b[39m\u001b[39m/\u001b[39m\u001b[39m3\u001b[39m, \u001b[39m0\u001b[39m, \u001b[39m1\u001b[39m\u001b[39m/\u001b[39m\u001b[39m4\u001b[39m, \u001b[39m1\u001b[39m]]\n\u001b[0;32m      <a href='vscode-notebook-cell:/d%3A/Project/Math/Final/20127588.ipynb#Y102sZmlsZQ%3D%3D?line=1'>2</a>\u001b[0m B1 \u001b[39m=\u001b[39m [[\u001b[39m0\u001b[39m], [\u001b[39m0\u001b[39m], [\u001b[39m0\u001b[39m], [\u001b[39m0\u001b[39m], [\u001b[39m0\u001b[39m]]\n\u001b[1;32m----> <a href='vscode-notebook-cell:/d%3A/Project/Math/Final/20127588.ipynb#Y102sZmlsZQ%3D%3D?line=2'>3</a>\u001b[0m C1 \u001b[39m=\u001b[39m findX(A1, B1)\n\u001b[0;32m      <a href='vscode-notebook-cell:/d%3A/Project/Math/Final/20127588.ipynb#Y102sZmlsZQ%3D%3D?line=3'>4</a>\u001b[0m \u001b[39mprint\u001b[39m(C1)\n",
      "\u001b[1;32md:\\Project\\Math\\Final\\20127588.ipynb Cell 52\u001b[0m in \u001b[0;36mfindX\u001b[1;34m(ma, mb)\u001b[0m\n\u001b[0;32m      <a href='vscode-notebook-cell:/d%3A/Project/Math/Final/20127588.ipynb#Y102sZmlsZQ%3D%3D?line=3'>4</a>\u001b[0m \u001b[39mfor\u001b[39;00m i \u001b[39min\u001b[39;00m \u001b[39mrange\u001b[39m(n):\n\u001b[0;32m      <a href='vscode-notebook-cell:/d%3A/Project/Math/Final/20127588.ipynb#Y102sZmlsZQ%3D%3D?line=4'>5</a>\u001b[0m     result\u001b[39m.\u001b[39mappend(i)\n\u001b[1;32m----> <a href='vscode-notebook-cell:/d%3A/Project/Math/Final/20127588.ipynb#Y102sZmlsZQ%3D%3D?line=6'>7</a>\u001b[0m R \u001b[39m=\u001b[39m findQR(ma)[\u001b[39m1\u001b[39m]\n\u001b[0;32m      <a href='vscode-notebook-cell:/d%3A/Project/Math/Final/20127588.ipynb#Y102sZmlsZQ%3D%3D?line=7'>8</a>\u001b[0m Y \u001b[39m=\u001b[39m findMatrixRX(ma, mb)\n\u001b[0;32m     <a href='vscode-notebook-cell:/d%3A/Project/Math/Final/20127588.ipynb#Y102sZmlsZQ%3D%3D?line=9'>10</a>\u001b[0m \u001b[39mfor\u001b[39;00m i \u001b[39min\u001b[39;00m \u001b[39mrange\u001b[39m(n \u001b[39m-\u001b[39m \u001b[39m1\u001b[39m, \u001b[39m-\u001b[39m\u001b[39m1\u001b[39m, \u001b[39m-\u001b[39m\u001b[39m1\u001b[39m):\n",
      "\u001b[1;32md:\\Project\\Math\\Final\\20127588.ipynb Cell 52\u001b[0m in \u001b[0;36mfindQR\u001b[1;34m(matrixInput)\u001b[0m\n\u001b[0;32m      <a href='vscode-notebook-cell:/d%3A/Project/Math/Final/20127588.ipynb#Y102sZmlsZQ%3D%3D?line=0'>1</a>\u001b[0m \u001b[39mdef\u001b[39;00m \u001b[39mfindQR\u001b[39m(matrixInput):\n\u001b[0;32m      <a href='vscode-notebook-cell:/d%3A/Project/Math/Final/20127588.ipynb#Y102sZmlsZQ%3D%3D?line=1'>2</a>\u001b[0m     matrix \u001b[39m=\u001b[39m convertMatrix(matrixInput)\n\u001b[1;32m----> <a href='vscode-notebook-cell:/d%3A/Project/Math/Final/20127588.ipynb#Y102sZmlsZQ%3D%3D?line=3'>4</a>\u001b[0m     Q \u001b[39m=\u001b[39m GramSchmidt(matrixInput)\n\u001b[0;32m      <a href='vscode-notebook-cell:/d%3A/Project/Math/Final/20127588.ipynb#Y102sZmlsZQ%3D%3D?line=4'>5</a>\u001b[0m     Qconvert \u001b[39m=\u001b[39m convertMatrix(Q)\n\u001b[0;32m      <a href='vscode-notebook-cell:/d%3A/Project/Math/Final/20127588.ipynb#Y102sZmlsZQ%3D%3D?line=5'>6</a>\u001b[0m     R \u001b[39m=\u001b[39m []\n",
      "\u001b[1;32md:\\Project\\Math\\Final\\20127588.ipynb Cell 52\u001b[0m in \u001b[0;36mGramSchmidt\u001b[1;34m(matrixInput)\u001b[0m\n\u001b[0;32m     <a href='vscode-notebook-cell:/d%3A/Project/Math/Final/20127588.ipynb#Y102sZmlsZQ%3D%3D?line=11'>12</a>\u001b[0m     \u001b[39mfor\u001b[39;00m j \u001b[39min\u001b[39;00m \u001b[39mrange\u001b[39m(\u001b[39m0\u001b[39m, i):\n\u001b[0;32m     <a href='vscode-notebook-cell:/d%3A/Project/Math/Final/20127588.ipynb#Y102sZmlsZQ%3D%3D?line=12'>13</a>\u001b[0m         ui \u001b[39m=\u001b[39m minusTwoVector(ui, proj(resultMatrix[j], ui))\n\u001b[1;32m---> <a href='vscode-notebook-cell:/d%3A/Project/Math/Final/20127588.ipynb#Y102sZmlsZQ%3D%3D?line=13'>14</a>\u001b[0m     vi \u001b[39m=\u001b[39m mulVectorWithNumber(ui, \u001b[39m1\u001b[39;49m \u001b[39m/\u001b[39;49m sqrt(mulTwoVector(ui, ui)))\n\u001b[0;32m     <a href='vscode-notebook-cell:/d%3A/Project/Math/Final/20127588.ipynb#Y102sZmlsZQ%3D%3D?line=14'>15</a>\u001b[0m     resultMatrix\u001b[39m.\u001b[39mappend(vi)\n\u001b[0;32m     <a href='vscode-notebook-cell:/d%3A/Project/Math/Final/20127588.ipynb#Y102sZmlsZQ%3D%3D?line=15'>16</a>\u001b[0m \u001b[39mreturn\u001b[39;00m convertMatrix(resultMatrix)\n",
      "\u001b[1;31mZeroDivisionError\u001b[0m: complex division by zero"
     ]
    }
   ],
   "source": [
    "A1 = [[1, 1/3, 1/2, 1/4, 0], [0, 0, 0, 1/4, 0], [0, 0, 0, 1/4, 0], [0, 1/3, 1/2, 0, 0], [0, 1/3, 0, 1/4, 1]]\n",
    "B1 = [[0], [0], [0], [0], [0]]\n",
    "C1 = findX(A1, B1)\n",
    "print(C1)"
   ]
  }
 ],
 "metadata": {
  "kernelspec": {
   "display_name": "Python 3.9.13 64-bit (windows store)",
   "language": "python",
   "name": "python3"
  },
  "language_info": {
   "codemirror_mode": {
    "name": "ipython",
    "version": 3
   },
   "file_extension": ".py",
   "mimetype": "text/x-python",
   "name": "python",
   "nbconvert_exporter": "python",
   "pygments_lexer": "ipython3",
   "version": "3.9.13"
  },
  "orig_nbformat": 4,
  "vscode": {
   "interpreter": {
    "hash": "aa5b096c21169955146254bacc3490fd7fc81825a4d0bc81eb7afc2e0af2c372"
   }
  }
 },
 "nbformat": 4,
 "nbformat_minor": 2
}
